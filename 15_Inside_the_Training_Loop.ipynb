{
  "nbformat": 4,
  "nbformat_minor": 0,
  "metadata": {
    "colab": {
      "provenance": []
    },
    "kernelspec": {
      "name": "python3",
      "display_name": "Python 3"
    },
    "language_info": {
      "name": "python"
    }
  },
  "cells": [
    {
      "cell_type": "code",
      "execution_count": 3,
      "metadata": {
        "id": "xldSm-e8ZbOe"
      },
      "outputs": [],
      "source": [
        "import torch\n",
        "import torch.nn as nn\n",
        "import torch.optim as optim\n",
        "from torch.utils.data import DataLoader, TensorDataset\n",
        "import matplotlib.pyplot as plt"
      ]
    },
    {
      "cell_type": "markdown",
      "source": [
        "#### Step 1: Prepare Dummy Data"
      ],
      "metadata": {
        "id": "jzh8T9OhZ5DE"
      }
    },
    {
      "cell_type": "code",
      "source": [
        "# Simulate tokenized text data (Sequence of numbers)\n",
        "data = torch.arange(1, 101).unsqueeze(1).float()  # Tokens 1 to 100\n",
        "targets = data + 1  # Next token prediction task (like language modeling)"
      ],
      "metadata": {
        "id": "bZkwhQuXZcdA"
      },
      "execution_count": 4,
      "outputs": []
    },
    {
      "cell_type": "code",
      "source": [
        "# Split data into small batches (Batch Size = 10)\n",
        "dataset = TensorDataset(data, targets)\n",
        "train_loader = DataLoader(dataset, batch_size=10, shuffle=True)\n"
      ],
      "metadata": {
        "id": "zVGlra1YZ82R"
      },
      "execution_count": 5,
      "outputs": []
    },
    {
      "cell_type": "markdown",
      "source": [
        "#### Step 2: Define Model Parameters"
      ],
      "metadata": {
        "id": "V9s0hG7GaDIo"
      }
    },
    {
      "cell_type": "code",
      "source": [
        "# We'll simulate a simple linear model (no class/function)\n",
        "# Model formula: output = input * weight + bias\n",
        "weight = torch.randn(1, requires_grad=True)  # Random initial weight\n",
        "bias = torch.randn(1, requires_grad=True)    # Random initial bias"
      ],
      "metadata": {
        "id": "3rrvPyH3aA9u"
      },
      "execution_count": 6,
      "outputs": []
    },
    {
      "cell_type": "code",
      "source": [
        "# Optimizer: AdamW\n",
        "optimizer = optim.AdamW([weight, bias], lr=0.01)"
      ],
      "metadata": {
        "id": "rODjoIspaLZf"
      },
      "execution_count": 7,
      "outputs": []
    },
    {
      "cell_type": "code",
      "source": [
        "# Loss Function: Mean Squared Error (MSE)\n",
        "mse_loss = nn.MSELoss()"
      ],
      "metadata": {
        "id": "LV1W1ncLaOW2"
      },
      "execution_count": 8,
      "outputs": []
    },
    {
      "cell_type": "markdown",
      "source": [
        "#### Step 3: Training Loop Begins"
      ],
      "metadata": {
        "id": "Cz-SojEJaURU"
      }
    },
    {
      "cell_type": "code",
      "source": [
        "num_epochs = 5  # Number of practice rounds\n",
        "train_losses = []"
      ],
      "metadata": {
        "id": "JH-IiA5maRPr"
      },
      "execution_count": 9,
      "outputs": []
    },
    {
      "cell_type": "code",
      "source": [
        "for epoch in range(num_epochs):\n",
        "    print(f\"\\nEpoch {epoch + 1} begins...\")  # Step 1: Start a new round\n",
        "    for batch_idx, (input_batch, target_batch) in enumerate(train_loader):\n",
        "\n",
        "        # Step 2: Process small chunks (Batches)\n",
        "\n",
        "        # Step 3: Clear old mistakes (Reset Gradients)\n",
        "        optimizer.zero_grad()\n",
        "\n",
        "        # Step 4: Model makes a guess (Forward Pass)\n",
        "        predictions = input_batch * weight + bias  # Simple linear prediction\n",
        "\n",
        "        # Calculate how far off the guess was (Loss Calculation)\n",
        "        loss = mse_loss(predictions, target_batch)\n",
        "\n",
        "        # Step 5: Learn from Mistakes (Backpropagation)\n",
        "        loss.backward()\n",
        "\n",
        "        # Step 6: Update Knowledge (Adjust Weights)\n",
        "        optimizer.step()\n",
        "         # Step 7: Track Progress (Print Loss)\n",
        "        print(f\"  Batch {batch_idx + 1}: Loss = {loss.item():.4f}\")\n",
        "        train_losses.append(loss.item())\n",
        "\n",
        "    # Step 8: Generate Sample Output (Visual Check)\n",
        "    sample_input = torch.tensor([[50.0]])\n",
        "    sample_output = sample_input * weight.detach() + bias.detach()\n",
        "    print(f\"  Sample Generation after Epoch {epoch + 1}: Input=50, Model Output={sample_output.item():.2f}\")\n"
      ],
      "metadata": {
        "colab": {
          "base_uri": "https://localhost:8080/"
        },
        "id": "t7N66NHNagTV",
        "outputId": "1314bc9c-9890-4317-addf-7d42c8f87544"
      },
      "execution_count": 10,
      "outputs": [
        {
          "output_type": "stream",
          "name": "stdout",
          "text": [
            "\n",
            "Epoch 1 begins...\n",
            "  Batch 1: Loss = 1771.9631\n",
            "  Batch 2: Loss = 2133.9163\n",
            "  Batch 3: Loss = 2493.6284\n",
            "  Batch 4: Loss = 2405.5088\n",
            "  Batch 5: Loss = 2248.4585\n",
            "  Batch 6: Loss = 2117.2627\n",
            "  Batch 7: Loss = 1916.4017\n",
            "  Batch 8: Loss = 2366.1819\n",
            "  Batch 9: Loss = 2021.2357\n",
            "  Batch 10: Loss = 2287.9854\n",
            "  Sample Generation after Epoch 1: Input=50, Model Output=13.23\n",
            "\n",
            "Epoch 2 begins...\n",
            "  Batch 1: Loss = 2212.6492\n",
            "  Batch 2: Loss = 1631.3635\n",
            "  Batch 3: Loss = 1420.8876\n",
            "  Batch 4: Loss = 1285.0045\n",
            "  Batch 5: Loss = 1529.0372\n",
            "  Batch 6: Loss = 964.6110\n",
            "  Batch 7: Loss = 1988.8723\n",
            "  Batch 8: Loss = 1666.1472\n",
            "  Batch 9: Loss = 1801.7328\n",
            "  Batch 10: Loss = 2126.3921\n",
            "  Sample Generation after Epoch 2: Input=50, Model Output=18.13\n",
            "\n",
            "Epoch 3 begins...\n",
            "  Batch 1: Loss = 997.5875\n",
            "  Batch 2: Loss = 1199.7789\n",
            "  Batch 3: Loss = 971.1754\n",
            "  Batch 4: Loss = 1988.3510\n",
            "  Batch 5: Loss = 1694.3402\n",
            "  Batch 6: Loss = 1414.4580\n",
            "  Batch 7: Loss = 792.9930\n",
            "  Batch 8: Loss = 1644.5319\n",
            "  Batch 9: Loss = 1075.4908\n",
            "  Batch 10: Loss = 729.1250\n",
            "  Sample Generation after Epoch 3: Input=50, Model Output=22.86\n",
            "\n",
            "Epoch 4 begins...\n",
            "  Batch 1: Loss = 674.2618\n",
            "  Batch 2: Loss = 1311.9181\n",
            "  Batch 3: Loss = 817.3871\n",
            "  Batch 4: Loss = 901.7272\n",
            "  Batch 5: Loss = 1457.1520\n",
            "  Batch 6: Loss = 912.2379\n",
            "  Batch 7: Loss = 1155.1176\n",
            "  Batch 8: Loss = 599.6213\n",
            "  Batch 9: Loss = 569.6222\n",
            "  Batch 10: Loss = 699.5865\n",
            "  Sample Generation after Epoch 4: Input=50, Model Output=27.20\n",
            "\n",
            "Epoch 5 begins...\n",
            "  Batch 1: Loss = 545.5802\n",
            "  Batch 2: Loss = 844.7925\n",
            "  Batch 3: Loss = 650.9401\n",
            "  Batch 4: Loss = 890.4410\n",
            "  Batch 5: Loss = 430.1163\n",
            "  Batch 6: Loss = 720.4545\n",
            "  Batch 7: Loss = 681.7247\n",
            "  Batch 8: Loss = 794.9135\n",
            "  Batch 9: Loss = 374.4093\n",
            "  Batch 10: Loss = 480.4135\n",
            "  Sample Generation after Epoch 5: Input=50, Model Output=31.10\n"
          ]
        }
      ]
    },
    {
      "cell_type": "markdown",
      "source": [
        "#### Step 4: Plot Training Loss Over Batches"
      ],
      "metadata": {
        "id": "ScQMama0aq5D"
      }
    },
    {
      "cell_type": "code",
      "source": [
        "plt.plot(train_losses)\n",
        "plt.title('Training Loss Over Batches')\n",
        "plt.xlabel('Batch Number')\n",
        "plt.ylabel('Loss')\n",
        "plt.show()"
      ],
      "metadata": {
        "colab": {
          "base_uri": "https://localhost:8080/",
          "height": 472
        },
        "id": "nC_KMvZxaoHF",
        "outputId": "914687b8-e2c8-469d-97b5-b69ae06524ae"
      },
      "execution_count": 11,
      "outputs": [
        {
          "output_type": "display_data",
          "data": {
            "text/plain": [
              "<Figure size 640x480 with 1 Axes>"
            ],
            "image/png": "[encoded data removed]"
          },
          "metadata": {}
        }
      ]
    },
    {
      "cell_type": "markdown",
      "source": [
        "The overall downward trend means the training is working and the model is learning.\n",
        "\n",
        "The noise (spikes) is expected in batch-level loss, the important thing is the general decline over time.\n",
        "\n",
        "If this were flat or going up, it would mean the model isn’t improving."
      ],
      "metadata": {
        "id": "rOjfX7TZa_Qx"
      }
    },
    {
      "cell_type": "code",
      "source": [],
      "metadata": {
        "id": "MYv3UsYqavrV"
      },
      "execution_count": null,
      "outputs": []
    }
  ]
}
