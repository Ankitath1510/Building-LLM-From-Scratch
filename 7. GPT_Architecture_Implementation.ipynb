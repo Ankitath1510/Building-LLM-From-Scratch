{
 "cells": [
  {
   "cell_type": "markdown",
   "id": "9da1b8d7",
   "metadata": {},
   "source": [
    "# GPT Architecture – Implementation"
   ]
  },
  {
   "cell_type": "markdown",
   "id": "e3964f30-c635-4989-b918-6ed5ca548c2a",
   "metadata": {},
   "source": [
    "#### Step 1: Start with the Skeleton"
   ]
  },
  {
   "cell_type": "code",
   "execution_count": 354,
   "id": "b6675f7b",
   "metadata": {},
   "outputs": [],
   "source": [
    "import torch\n",
    "import math\n",
    "\n",
    "# Model configuration\n",
    "batch_size = 1\n",
    "sequence_length = 5\n",
    "embedding_dim = 16\n",
    "num_heads = 4\n",
    "head_dim = embedding_dim // num_heads\n",
    "vocab_size = 50257\n",
    "dropout_rate = 0.1"
   ]
  },
  {
   "cell_type": "markdown",
   "id": "66232fbb-c50e-4ab5-bd13-ca3575141f81",
   "metadata": {},
   "source": [
    "#### Step 2: Create a Pretend Sentence for Input\n",
    "- Imagine a pretend input sentence where each word is replaced by a number\n",
    "- This creates a sentence with 5 random words (token IDs between 0 and vocab_size)"
   ]
  },
  {
   "cell_type": "code",
   "execution_count": 356,
   "id": "baa601c8",
   "metadata": {},
   "outputs": [
    {
     "name": "stdout",
     "output_type": "stream",
     "text": [
      "Input Token IDs: tensor([[ 464, 3797, 3332,  319,  262]])\n"
     ]
    }
   ],
   "source": [
    "tokenizer = tiktoken.get_encoding(\"gpt2\")\n",
    "\n",
    "# Here is the pretend sentence:\n",
    "sentence = \"The cat sat on the\"\n",
    "\n",
    "# Tokenize the sentence into token IDs\n",
    "input_tokens = tokenizer.encode(sentence)\n",
    "\n",
    "# Adjust shape to match (batch_size, sequence_length)\n",
    "# If your sentence is shorter, pad it. If longer, truncate it.\n",
    "if len(input_tokens) < sequence_length:\n",
    "    input_tokens += [0] * (sequence_length - len(input_tokens))  # Padding\n",
    "else:\n",
    "    input_tokens = input_tokens[:sequence_length]                # Truncate\n",
    "\n",
    "# Convert to tensor\n",
    "x = torch.tensor([input_tokens])\n",
    "\n",
    "print(\"Input Token IDs:\", x)"
   ]
  },
  {
   "cell_type": "markdown",
   "id": "a32063ce-839f-43d8-983c-80a77f8b863e",
   "metadata": {},
   "source": [
    "#### Step 3: Convert words into Numbers that GPT can understand (Token and Position Embedding)"
   ]
  },
  {
   "cell_type": "code",
   "execution_count": 358,
   "id": "9303ee6b",
   "metadata": {},
   "outputs": [
    {
     "name": "stdout",
     "output_type": "stream",
     "text": [
      "Token + Position Embedding Shape: torch.Size([1, 5, 16])\n"
     ]
    }
   ],
   "source": [
    "# Create a table that converts each word into a list of 16 numbers\n",
    "token_embedding = torch.rand(vocab_size, embedding_dim) # Shape: [50257, 16]\n",
    "\n",
    "# Create another table that tells the model the position of each word (1st, 2nd, 3rd...)\n",
    "position_embedding = torch.rand(sequence_length, embedding_dim) # Shape: [5, 16]\n",
    "\n",
    "# Look up each word in the token embedding table\n",
    "tok_emb = token_embedding[x] # Shape: [1, 5, 16] — words converted into vectors\n",
    "\n",
    "# Look up position embeddings and apply to the sentence\n",
    "pos_emb = position_embedding.unsqueeze(0).repeat(batch_size, 1, 1)  # Shape: [1, 5, 16] — position info for each word\n",
    "\n",
    "# Combine word meaning + word position\n",
    "x_emb = tok_emb + pos_emb\n",
    "\n",
    "# Apply dropout — randomly removes some info to help the model generalize better\n",
    "x_emb = torch.dropout(x_emb, p=dropout_rate, train=True)\n",
    "\n",
    "print(\"Token + Position Embedding Shape:\", x_emb.shape)"
   ]
  },
  {
   "cell_type": "markdown",
   "id": "a2b3c298-cbe0-422a-9a55-b76780ab84bb",
   "metadata": {},
   "source": [
    "#### Step 3: Pass through Dummy Transformer Blocks (12 Times)"
   ]
  },
  {
   "cell_type": "code",
   "execution_count": 360,
   "id": "d4f78911",
   "metadata": {},
   "outputs": [
    {
     "name": "stdout",
     "output_type": "stream",
     "text": [
      "Output after Transformer Stack: torch.Size([1, 5, 16])\n"
     ]
    }
   ],
   "source": [
    "# Pretend there are 12 processing steps (Transformer Blocks)\n",
    "# Each step refines the understanding of the sentence\n",
    "\n",
    "x_trf = x_emb.clone() # Make a copy to process\n",
    "\n",
    "for _ in range(12):\n",
    "    # Repeat this block 12 times (like stacking 12 LEGO blocks)\n",
    "    # Normally, each block does smart stuff: attention, thinking, balancing.\n",
    "    # BUT since this is a dummy model, we skip all of that.\n",
    "    x_trf = x_trf  ## Do nothing, just pass it as is\n",
    "\n",
    "print(\"Output after Transformer Stack:\", x_trf.shape)"
   ]
  },
  {
   "cell_type": "markdown",
   "id": "57a7f572-02c7-46f8-bb36-42592b99a85f",
   "metadata": {},
   "source": [
    "#### Step 4: Final Normalization "
   ]
  },
  {
   "cell_type": "code",
   "execution_count": 362,
   "id": "1f2ad314",
   "metadata": {},
   "outputs": [],
   "source": [
    "# Normally this step would clean and stabilize the numbers.\n",
    "# But in this dummy model, we skip it and pass as is.\n",
    "x_norm = x_trf  # No-op"
   ]
  },
  {
   "cell_type": "markdown",
   "id": "0f69fcf8-3111-4adb-948d-f2582f00117e",
   "metadata": {},
   "source": [
    "#### Step 5: Output Prediction"
   ]
  },
  {
   "cell_type": "code",
   "execution_count": 364,
   "id": "c6e7fd5a",
   "metadata": {},
   "outputs": [
    {
     "name": "stdout",
     "output_type": "stream",
     "text": [
      "Logits shape: torch.Size([1, 5, 50257])\n"
     ]
    }
   ],
   "source": [
    "# Create a table that converts the final numbers back to word predictions\n",
    "output_projection = torch.rand(embedding_dim, vocab_size)\n",
    "# Shape: [16, 50257] — from features back to possible words\n",
    "\n",
    "# Multiply the output with this table to get raw scores (logits) for every word in the vocabulary\n",
    "logits = x_norm @ output_projection\n",
    "\n",
    "print(\"Logits shape:\", logits.shape)  # This means: for each of the 5 words, the model gives scores for all 50257 words\n"
   ]
  },
  {
   "cell_type": "markdown",
   "id": "ef31a7e3-bd1b-4a80-8711-ce7071547470",
   "metadata": {},
   "source": [
    "# Step 6: Convert logits into next predicted word"
   ]
  },
  {
   "cell_type": "code",
   "execution_count": 366,
   "id": "d0f547fb-d4fa-4951-9def-cfe649e2df1f",
   "metadata": {},
   "outputs": [
    {
     "name": "stdout",
     "output_type": "stream",
     "text": [
      "Predicted Word:  troubling\n"
     ]
    }
   ],
   "source": [
    "import torch.nn.functional as F\n",
    "import tiktoken\n",
    "\n",
    "# Load the GPT-2 tokenizer\n",
    "tokenizer = tiktoken.get_encoding(\"gpt2\")\n",
    "\n",
    "# Convert logits to probabilities\n",
    "probs = F.softmax(logits, dim=-1)\n",
    "\n",
    "# Focus on the last token in the sentence\n",
    "last_token_probs = probs[0, -1]   # Shape: [vocab_size]\n",
    "\n",
    "# Pick the word with the highest probability\n",
    "predicted_token_id = torch.argmax(last_token_probs).item()\n",
    "\n",
    "# Convert token ID back to a readable word\n",
    "predicted_word = tokenizer.decode([predicted_token_id])\n",
    "\n",
    "print(\"Predicted Word:\", predicted_word)\n"
   ]
  },
  {
   "cell_type": "code",
   "execution_count": null,
   "id": "0b772c9d-2964-4b4a-9fdb-1a8bffcb50d7",
   "metadata": {},
   "outputs": [],
   "source": []
  }
 ],
 "metadata": {
  "kernelspec": {
   "display_name": "Python [conda env:base] *",
   "language": "python",
   "name": "conda-base-py"
  },
  "language_info": {
   "codemirror_mode": {
    "name": "ipython",
    "version": 3
   },
   "file_extension": ".py",
   "mimetype": "text/x-python",
   "name": "python",
   "nbconvert_exporter": "python",
   "pygments_lexer": "ipython3",
   "version": "3.12.7"
  }
 },
 "nbformat": 4,
 "nbformat_minor": 5
}
