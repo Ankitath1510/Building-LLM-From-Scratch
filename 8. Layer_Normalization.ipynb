{
 "cells": [
  {
   "cell_type": "markdown",
   "id": "180fd8a0",
   "metadata": {},
   "source": [
    "# Layer Normalization"
   ]
  },
  {
   "cell_type": "markdown",
   "id": "52a1d007-0371-4bce-b544-5cdcc89e7ce7",
   "metadata": {},
   "source": [
    "#### Step 1: Think of some numbers as data\n",
    "Let’s say you have 2 data points.\n",
    "Each has 5 numbers."
   ]
  },
  {
   "cell_type": "code",
   "execution_count": 3,
   "id": "e2812c6b",
   "metadata": {},
   "outputs": [
    {
     "name": "stdout",
     "output_type": "stream",
     "text": [
      "Data: [[0.5, -1.2, 3.3, 0.8, -0.5], [2.0, -0.7, 1.2, -3.5, 0.6]]\n"
     ]
    }
   ],
   "source": [
    "# # These are like two sentences, each with 5 words (numbers)\n",
    "data = [\n",
    "    [0.5, -1.2, 3.3, 0.8, -0.5],   # Data point 1\n",
    "    [2.0, -0.7, 1.2, -3.5, 0.6]    # Data point 2\n",
    "]\n",
    "print(\"Data:\", data)"
   ]
  },
  {
   "cell_type": "markdown",
   "id": "4c8bad2b-632c-4de8-adb6-183fc4f86c0b",
   "metadata": {},
   "source": [
    "#### Step 2: Calculate the mean of each data point"
   ]
  },
  {
   "cell_type": "code",
   "execution_count": 8,
   "id": "c9885126",
   "metadata": {},
   "outputs": [
    {
     "name": "stdout",
     "output_type": "stream",
     "text": [
      "Mean of data point 1: 0.58\n",
      "Mean of data point 2: -0.08\n"
     ]
    }
   ],
   "source": [
    "# # Mean = (sum of numbers) / (how many numbers)\n",
    "mean1 = sum(data[0]) / len(data[0])\n",
    "mean2 = sum(data[1]) / len(data[1])\n",
    "\n",
    "print(\"Mean of data point 1:\", mean1)\n",
    "print(\"Mean of data point 2:\", mean2)"
   ]
  },
  {
   "cell_type": "markdown",
   "id": "0b4b1d95-d96e-4742-9aec-6ccf290e5482",
   "metadata": {},
   "source": [
    "#### Step 3: Calculate how spread out the numbers are (variance)"
   ]
  },
  {
   "cell_type": "code",
   "execution_count": 10,
   "id": "9ebc8988",
   "metadata": {},
   "outputs": [
    {
     "name": "stdout",
     "output_type": "stream",
     "text": [
      "Variance of data point 1: 2.3575999999999997\n",
      "Variance of data point 2: 3.7016\n"
     ]
    }
   ],
   "source": [
    "# # Variance = average of (each number - mean) squared\n",
    "var1 = sum((x - mean1) ** 2 for x in data[0]) / len(data[0])\n",
    "var2 = sum((x - mean2) ** 2 for x in data[1]) / len(data[1])\n",
    "\n",
    "print(\"Variance of data point 1:\", var1)\n",
    "print(\"Variance of data point 2:\", var2)"
   ]
  },
  {
   "cell_type": "markdown",
   "id": "273906bc-b185-4379-8d7a-7e7edc2513bf",
   "metadata": {},
   "source": [
    "#### Step 4: Apply Layer Normalization (balance the numbers)"
   ]
  },
  {
   "cell_type": "code",
   "execution_count": 13,
   "id": "e7ffb973",
   "metadata": {},
   "outputs": [
    {
     "name": "stdout",
     "output_type": "stream",
     "text": [
      "Normalized data point 1: [-0.05210195320817495, -1.1592684588818931, 1.771466409077949, 0.14328037132248123, -0.7033763683103622]\n",
      "Normalized data point 2: [1.081105321539628, -0.3222525477666199, 0.6652955824859249, -1.7775866344545805, 0.3534382781956476]\n"
     ]
    }
   ],
   "source": [
    "# Formula: (number - mean) / sqrt(variance)\n",
    "import math\n",
    "\n",
    "normalized1 = [(x - mean1) / math.sqrt(var1 + 1e-5) for x in data[0]]\n",
    "normalized2 = [(x - mean2) / math.sqrt(var2 + 1e-5) for x in data[1]]\n",
    "\n",
    "print(\"Normalized data point 1:\", normalized1)\n",
    "print(\"Normalized data point 2:\", normalized2)"
   ]
  },
  {
   "cell_type": "markdown",
   "id": "d9b2498c-f2a7-4e52-875f-9a453a80b320",
   "metadata": {},
   "source": [
    "#### Step 5: Check whether the above steps worked"
   ]
  },
  {
   "cell_type": "code",
   "execution_count": 16,
   "id": "a1b74ab5",
   "metadata": {},
   "outputs": [
    {
     "name": "stdout",
     "output_type": "stream",
     "text": [
      "After normalization — Mean 1: 1.3877787807814458e-18 , Variance 1: 0.9999957584163625\n",
      "After normalization — Mean 2: 2.2204460492503132e-17 , Variance 2: 0.9999972984728265\n"
     ]
    }
   ],
   "source": [
    "# Check new mean and variance\n",
    "mean1_after = sum(normalized1) / len(normalized1)\n",
    "var1_after = sum((x - mean1_after) ** 2 for x in normalized1) / len(normalized1)\n",
    "\n",
    "mean2_after = sum(normalized2) / len(normalized2)\n",
    "var2_after = sum((x - mean2_after) ** 2 for x in normalized2) / len(normalized2)\n",
    "\n",
    "print(\"After normalization — Mean 1:\", mean1_after, \", Variance 1:\", var1_after)\n",
    "print(\"After normalization — Mean 2:\", mean2_after, \", Variance 2:\", var2_after)"
   ]
  },
  {
   "cell_type": "markdown",
   "id": "7d2c093b-56a3-4c0b-8d5f-cc80eb4b7d7c",
   "metadata": {},
   "source": [
    "#### Meaning of the output\n",
    "- Mean 1: 1.3877787807814458e-18\n",
    "   **This means 0.000000000000000001387..., which is practically zero**\n",
    "\n",
    "- Variance 1: 0.9999957\n",
    "  **This is very close to 1, just a tiny bit off due to floating-point precision**\n",
    "\n",
    "- Similarly for Mean 2 and Variance 2,  they are 0 mean and variance of 1."
   ]
  },
  {
   "cell_type": "markdown",
   "id": "72c907ba-cd27-4184-ab03-760f07e182c8",
   "metadata": {},
   "source": [
    "#### No matter how messy the numbers were, \n",
    "\n",
    "- **Mean becomes 0**\n",
    "\n",
    "- **Variance becomes 1**\n",
    "\n",
    "The data is clean, balanced, and ready , just like giving everyone on a Zoom call the same volume level."
   ]
  },
  {
   "cell_type": "code",
   "execution_count": null,
   "id": "7351f164-0102-4d05-a8c3-c90c3dc9d0f1",
   "metadata": {},
   "outputs": [],
   "source": []
  }
 ],
 "metadata": {
  "kernelspec": {
   "display_name": "Python [conda env:base] *",
   "language": "python",
   "name": "conda-base-py"
  },
  "language_info": {
   "codemirror_mode": {
    "name": "ipython",
    "version": 3
   },
   "file_extension": ".py",
   "mimetype": "text/x-python",
   "name": "python",
   "nbconvert_exporter": "python",
   "pygments_lexer": "ipython3",
   "version": "3.12.7"
  }
 },
 "nbformat": 4,
 "nbformat_minor": 5
}
