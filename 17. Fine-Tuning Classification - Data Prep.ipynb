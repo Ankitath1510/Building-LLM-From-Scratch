{
 "cells": [
  {
   "cell_type": "code",
   "execution_count": 37,
   "id": "d361daca-c1eb-4d21-b56f-761bd27905e0",
   "metadata": {},
   "outputs": [],
   "source": [
    "import urllib.request   # to download the zip file from the web\n",
    "import zipfile          # to unzip the downloaded file\n",
    "import os               # to work with file paths\n",
    "import pandas as pd     # to read and work with tabular data"
   ]
  },
  {
   "cell_type": "markdown",
   "id": "54fc838f-3b92-43b1-bfe9-d161a011f501",
   "metadata": {},
   "source": [
    "### 1. Where to download from and local filenames"
   ]
  },
  {
   "cell_type": "code",
   "execution_count": 38,
   "id": "46629d96-8e66-4b89-ad55-4335ff237b22",
   "metadata": {},
   "outputs": [],
   "source": [
    "url = \"https://archive.ics.uci.edu/static/public/228/sms+spam+collection.zip\"\n",
    "zip_name = \"sms_spam_collection.zip\"    # downloaded zip\n",
    "folder = \"sms_spam_collection\"          # folder to extract into\n",
    "data_name_inside_zip = \"SMSSpamCollection\"  # file name inside the zip (no extension)\n",
    "tsv_name = os.path.join(folder, \"SMSSpamCollection.tsv\")  # we will rename to .tsv"
   ]
  },
  {
   "cell_type": "markdown",
   "id": "03d4d412-1521-4f0d-8bb1-a66dd252badd",
   "metadata": {},
   "source": [
    "### 2. Download the zip if we don't already have it"
   ]
  },
  {
   "cell_type": "code",
   "execution_count": 39,
   "id": "93fb68d9-99cd-49d2-89ec-1a56e5d8e6ca",
   "metadata": {},
   "outputs": [
    {
     "name": "stdout",
     "output_type": "stream",
     "text": [
      "Dataset already prepared. Skipping download and extraction.\n"
     ]
    }
   ],
   "source": [
    "if not os.path.exists(tsv_name):\n",
    "    print(\"Downloading dataset (this may take a few seconds)...\")\n",
    "    urllib.request.urlretrieve(url, zip_name)\n",
    "    print(\"Download finished.\")\n",
    "\n",
    "    # 3) Extract the zip\n",
    "    print(\"Extracting the zip file...\")\n",
    "    with zipfile.ZipFile(zip_name, \"r\") as z:\n",
    "        z.extractall(folder)\n",
    "    print(\"Extraction done.\")\n",
    "\n",
    "    # 4) Rename the extracted file to add .tsv for easy reading by pandas\n",
    "    original = os.path.join(folder, data_name_inside_zip)\n",
    "    if os.path.exists(original):\n",
    "        os.rename(original, tsv_name)\n",
    "        print(\"Renamed to .tsv for easy reading.\")\n",
    "    else:\n",
    "        raise FileNotFoundError(\"Expected file not found inside the zip.\")\n",
    "else:\n",
    "    print(\"Dataset already prepared. Skipping download and extraction.\")\n"
   ]
  },
  {
   "cell_type": "markdown",
   "id": "e5c537d4-d569-4f53-934c-3402f874a2f1",
   "metadata": {},
   "source": [
    "### 5. Load the data into a pandas DataFrame"
   ]
  },
  {
   "cell_type": "code",
   "execution_count": 40,
   "id": "523a7eb6-b9d1-4c23-a4e0-73dab33a6172",
   "metadata": {},
   "outputs": [
    {
     "name": "stdout",
     "output_type": "stream",
     "text": [
      "Loading data into a table...\n",
      "Loaded. Number of rows: 5572\n"
     ]
    }
   ],
   "source": [
    "# The file is tab-separated, has no header row. We name the columns 'Label' and 'Text'.\n",
    "print(\"Loading data into a table...\")\n",
    "df = pd.read_csv(tsv_name, sep=\"\\t\", header=None, names=[\"Label\", \"Text\"])\n",
    "print(\"Loaded. Number of rows:\", len(df))"
   ]
  },
  {
   "cell_type": "markdown",
   "id": "2bc9a709-d627-4a7e-8fa1-2fe18c154639",
   "metadata": {},
   "source": [
    "### 6. Look at how many 'ham' (not spam) and 'spam' messages we have"
   ]
  },
  {
   "cell_type": "code",
   "execution_count": 41,
   "id": "711dbba7-dd00-452f-b33e-d794163a506c",
   "metadata": {},
   "outputs": [
    {
     "name": "stdout",
     "output_type": "stream",
     "text": [
      "\n",
      "Counts before balancing:\n",
      "Label\n",
      "ham     4825\n",
      "spam     747\n",
      "Name: count, dtype: int64\n"
     ]
    }
   ],
   "source": [
    "print(\"\\nCounts before balancing:\")\n",
    "print(df[\"Label\"].value_counts())"
   ]
  },
  {
   "cell_type": "markdown",
   "id": "b3b175ea-cb94-4256-bd65-19dccd75f079",
   "metadata": {},
   "source": [
    "### 7. Make the dataset balanced by taking the same number of 'ham' as 'spam'"
   ]
  },
  {
   "cell_type": "code",
   "execution_count": 42,
   "id": "cf4a4a82-acc7-4e1b-95ce-aad03800d638",
   "metadata": {},
   "outputs": [
    {
     "name": "stdout",
     "output_type": "stream",
     "text": [
      "\n",
      "Counts after balancing:\n",
      "Label\n",
      "ham     747\n",
      "spam    747\n",
      "Name: count, dtype: int64\n"
     ]
    }
   ],
   "source": [
    "num_spam = df[df[\"Label\"] == \"spam\"].shape[0]\n",
    "ham_sample = df[df[\"Label\"] == \"ham\"].sample(num_spam, random_state=123)  # reproducible sample\n",
    "balanced = pd.concat([ham_sample, df[df[\"Label\"] == \"spam\"]]).sample(frac=1, random_state=123).reset_index(drop=True)\n",
    "print(\"\\nCounts after balancing:\")\n",
    "print(balanced[\"Label\"].value_counts())"
   ]
  },
  {
   "cell_type": "markdown",
   "id": "0f082a97-712b-4f00-9093-9cef996a8096",
   "metadata": {},
   "source": [
    "### 8. Convert text labels to numbers: ham -> 0, spam -> 1"
   ]
  },
  {
   "cell_type": "code",
   "execution_count": 43,
   "id": "7f004e50-dd51-46b3-9bac-6b2e0e298107",
   "metadata": {},
   "outputs": [
    {
     "name": "stdout",
     "output_type": "stream",
     "text": [
      "\n",
      "Sample rows (labels are now 0 or 1):\n"
     ]
    },
    {
     "data": {
      "text/html": [
       "<div>\n",
       "<style scoped>\n",
       "    .dataframe tbody tr th:only-of-type {\n",
       "        vertical-align: middle;\n",
       "    }\n",
       "\n",
       "    .dataframe tbody tr th {\n",
       "        vertical-align: top;\n",
       "    }\n",
       "\n",
       "    .dataframe thead th {\n",
       "        text-align: right;\n",
       "    }\n",
       "</style>\n",
       "<table border=\"1\" class=\"dataframe\">\n",
       "  <thead>\n",
       "    <tr style=\"text-align: right;\">\n",
       "      <th></th>\n",
       "      <th>Label</th>\n",
       "      <th>Text</th>\n",
       "    </tr>\n",
       "  </thead>\n",
       "  <tbody>\n",
       "    <tr>\n",
       "      <th>0</th>\n",
       "      <td>0</td>\n",
       "      <td>Dude how do you like the buff wind.</td>\n",
       "    </tr>\n",
       "    <tr>\n",
       "      <th>1</th>\n",
       "      <td>0</td>\n",
       "      <td>Tessy..pls do me a favor. Pls convey my birthd...</td>\n",
       "    </tr>\n",
       "    <tr>\n",
       "      <th>2</th>\n",
       "      <td>1</td>\n",
       "      <td>Reminder: You have not downloaded the content ...</td>\n",
       "    </tr>\n",
       "    <tr>\n",
       "      <th>3</th>\n",
       "      <td>1</td>\n",
       "      <td>Got what it takes 2 take part in the WRC Rally...</td>\n",
       "    </tr>\n",
       "    <tr>\n",
       "      <th>4</th>\n",
       "      <td>1</td>\n",
       "      <td>Shop till u Drop, IS IT YOU, either 10K, 5K, £...</td>\n",
       "    </tr>\n",
       "  </tbody>\n",
       "</table>\n",
       "</div>"
      ],
      "text/plain": [
       "   Label                                               Text\n",
       "0      0                Dude how do you like the buff wind.\n",
       "1      0  Tessy..pls do me a favor. Pls convey my birthd...\n",
       "2      1  Reminder: You have not downloaded the content ...\n",
       "3      1  Got what it takes 2 take part in the WRC Rally...\n",
       "4      1  Shop till u Drop, IS IT YOU, either 10K, 5K, £..."
      ]
     },
     "execution_count": 43,
     "metadata": {},
     "output_type": "execute_result"
    }
   ],
   "source": [
    "balanced[\"Label\"] = balanced[\"Label\"].map({\"ham\": 0, \"spam\": 1})\n",
    "print(\"\\nSample rows (labels are now 0 or 1):\")\n",
    "balanced.head()"
   ]
  },
  {
   "cell_type": "markdown",
   "id": "a2812cd0-1863-4245-ac77-b2e7dae69da6",
   "metadata": {},
   "source": [
    "### 9. Split into train / validation / test using simple indexing"
   ]
  },
  {
   "cell_type": "code",
   "execution_count": 44,
   "id": "d894fe92-83c7-4343-8ad6-801358c31461",
   "metadata": {},
   "outputs": [
    {
     "name": "stdout",
     "output_type": "stream",
     "text": [
      "\n",
      "Split sizes -> train: 1045, valid: 149, test: 300\n"
     ]
    }
   ],
   "source": [
    "n = len(balanced)\n",
    "train_end = int(0.7 * n)               # first 70%\n",
    "valid_end = train_end + int(0.1 * n)   # next 10%\n",
    "train = balanced[:train_end].reset_index(drop=True)\n",
    "valid = balanced[train_end:valid_end].reset_index(drop=True)\n",
    "test = balanced[valid_end:].reset_index(drop=True)\n",
    "\n",
    "print(f\"\\nSplit sizes -> train: {len(train)}, valid: {len(valid)}, test: {len(test)}\")"
   ]
  },
  {
   "cell_type": "markdown",
   "id": "ba5526a8-5cc0-48db-8a77-e466adc1ef85",
   "metadata": {},
   "source": [
    "### 10. Save to CSV so they can be reused later"
   ]
  },
  {
   "cell_type": "code",
   "execution_count": 45,
   "id": "5739fd0d-39b8-4aa1-b1d4-c14de1b593d7",
   "metadata": {},
   "outputs": [
    {
     "name": "stdout",
     "output_type": "stream",
     "text": [
      "Saved train.csv, validation.csv, test.csv\n"
     ]
    }
   ],
   "source": [
    "\n",
    "train.to_csv(\"train.csv\", index=False)\n",
    "valid.to_csv(\"validation.csv\", index=False)\n",
    "test.to_csv(\"test.csv\", index=False)\n",
    "print(\"Saved train.csv, validation.csv, test.csv\")"
   ]
  },
  {
   "cell_type": "markdown",
   "id": "406c6fce-deb7-404b-8a20-fb9c9470a877",
   "metadata": {},
   "source": [
    "### Dataset is ready for tokenization and model training.\n",
    "Next simple steps:\n",
    " - Tokenize the 'Text' column using a tokenizer (convert words to numbers)\n",
    " - Create DataLoaders (batches) and feed them to your model for training"
   ]
  },
  {
   "cell_type": "code",
   "execution_count": null,
   "id": "70e6e7b9-beae-4915-b5b1-4cc2e542670e",
   "metadata": {},
   "outputs": [],
   "source": []
  }
 ],
 "metadata": {
  "kernelspec": {
   "display_name": "Python 3 (ipykernel)",
   "language": "python",
   "name": "python3"
  },
  "language_info": {
   "codemirror_mode": {
    "name": "ipython",
    "version": 3
   },
   "file_extension": ".py",
   "mimetype": "text/x-python",
   "name": "python",
   "nbconvert_exporter": "python",
   "pygments_lexer": "ipython3",
   "version": "3.13.5"
  }
 },
 "nbformat": 4,
 "nbformat_minor": 5
}
