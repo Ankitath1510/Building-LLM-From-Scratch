{
 "cells": [
  {
   "cell_type": "markdown",
   "id": "e8be9795",
   "metadata": {},
   "source": [
    "# Fine-Tuning LLM with Temperature Scaling and Top-k Sampling"
   ]
  },
  {
   "cell_type": "code",
   "execution_count": 67,
   "id": "7fb7ef81",
   "metadata": {},
   "outputs": [],
   "source": [
    "import torch\n",
    "import matplotlib.pyplot as plt"
   ]
  },
  {
   "cell_type": "markdown",
   "id": "5d64ae53-0e60-497f-b6b2-f8f406917dee",
   "metadata": {},
   "source": [
    "#### Step 1: Define a Mini Vocab"
   ]
  },
  {
   "cell_type": "code",
   "execution_count": 69,
   "id": "04c9fb40",
   "metadata": {},
   "outputs": [],
   "source": [
    "vocab = {\n",
    "    \"closer\": 0, \"every\": 1, \"effort\": 2, \"forward\": 3,\n",
    "    \"inches\": 4, \"moves\": 5, \"pizza\": 6, \"toward\": 7, \"you\": 8\n",
    "}\n",
    "inverse_vocab = {v: k for k, v in vocab.items()}"
   ]
  },
  {
   "cell_type": "markdown",
   "id": "495a7652-a421-490e-af03-84a97004a18d",
   "metadata": {},
   "source": [
    "#### Step 2: Simulated model output (logits)"
   ]
  },
  {
   "cell_type": "code",
   "execution_count": 71,
   "id": "9f52f402",
   "metadata": {},
   "outputs": [],
   "source": [
    "\n",
    "next_token_logits = torch.tensor([\n",
    "    4.51, 0.89, -1.90, 6.75, 1.63, -1.62, -1.89, 6.28, 1.79\n",
    "])"
   ]
  },
  {
   "cell_type": "markdown",
   "id": "3e585c8d-c301-4dff-af91-3bbb4ee88609",
   "metadata": {},
   "source": [
    "#### Step 4: Temperature Scaling (adds randomness)"
   ]
  },
  {
   "cell_type": "code",
   "execution_count": 73,
   "id": "15f7e5a8",
   "metadata": {},
   "outputs": [],
   "source": [
    " \n",
    "temperature = 1.4  # Try 0.5 (safe), 2.0 (creative)\n",
    "scaled_logits = next_token_logits / temperature"
   ]
  },
  {
   "cell_type": "markdown",
   "id": "212d6780-4c47-4b92-9da2-b1b0c7f302fd",
   "metadata": {},
   "source": [
    "#### Step 5: Top-k Sampling (choose top 3 likely words)"
   ]
  },
  {
   "cell_type": "code",
   "execution_count": 75,
   "id": "af6de417",
   "metadata": {},
   "outputs": [],
   "source": [
    "\n",
    "top_k = 3\n",
    "top_logits, _ = torch.topk(next_token_logits, top_k)\n",
    "min_val = top_logits[-1]\n",
    "new_logits = torch.where(\n",
    "    next_token_logits < min_val,\n",
    "    torch.tensor(float('-inf')),\n",
    "    next_token_logits\n",
    ")"
   ]
  },
  {
   "cell_type": "markdown",
   "id": "44690529-4563-4c7a-bc43-bb8da1e98cb0",
   "metadata": {},
   "source": [
    "#### Step 6: Re-apply temperature scaling"
   ]
  },
  {
   "cell_type": "code",
   "execution_count": 79,
   "id": "c7db21c4",
   "metadata": {},
   "outputs": [],
   "source": [
    "\n",
    "scaled_logits = new_logits / temperature"
   ]
  },
  {
   "cell_type": "markdown",
   "id": "60d90049-8bd9-4b1a-874d-9cce4ac7807b",
   "metadata": {},
   "source": [
    "#### Step 7: Convert logits to probabilities"
   ]
  },
  {
   "cell_type": "code",
   "execution_count": 81,
   "id": "e326afa1",
   "metadata": {},
   "outputs": [],
   "source": [
    "\n",
    "probs = torch.softmax(scaled_logits, dim=0)"
   ]
  },
  {
   "cell_type": "markdown",
   "id": "6a02e74e-a1e6-474f-8693-e41915033064",
   "metadata": {},
   "source": [
    "#### Step 8: Sample a word from probabilities"
   ]
  },
  {
   "cell_type": "code",
   "execution_count": 83,
   "id": "514a51b9-2880-4fdb-98b4-8141f057bd37",
   "metadata": {},
   "outputs": [
    {
     "name": "stdout",
     "output_type": "stream",
     "text": [
      "Generated word: forward\n"
     ]
    }
   ],
   "source": [
    "\n",
    "torch.manual_seed(123)\n",
    "next_token_id = torch.multinomial(probs, num_samples=1).item()\n",
    "print(\"Generated word:\", inverse_vocab[next_token_id])"
   ]
  },
  {
   "cell_type": "markdown",
   "id": "09bf0f8f-65a3-4fe2-823b-b2001e99eb66",
   "metadata": {},
   "source": [
    "##### The above output means the model, after applying temperature and top-k, chose “forward” as the next word following a prompt like “every effort moves you…”"
   ]
  },
  {
   "cell_type": "code",
   "execution_count": null,
   "id": "997970eb-6fe5-4ea2-ad57-a96870759328",
   "metadata": {},
   "outputs": [],
   "source": []
  }
 ],
 "metadata": {
  "kernelspec": {
   "display_name": "Python [conda env:base] *",
   "language": "python",
   "name": "conda-base-py"
  },
  "language_info": {
   "codemirror_mode": {
    "name": "ipython",
    "version": 3
   },
   "file_extension": ".py",
   "mimetype": "text/x-python",
   "name": "python",
   "nbconvert_exporter": "python",
   "pygments_lexer": "ipython3",
   "version": "3.12.7"
  }
 },
 "nbformat": 4,
 "nbformat_minor": 5
}
