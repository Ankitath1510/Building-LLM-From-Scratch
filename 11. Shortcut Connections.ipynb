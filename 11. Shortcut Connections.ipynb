{
 "cells": [
  {
   "cell_type": "code",
   "execution_count": 1,
   "id": "c814dd3b",
   "metadata": {},
   "outputs": [],
   "source": [
    "import torch\n",
    "import torch.nn as nn\n",
    "import torch.nn.functional as F"
   ]
  },
  {
   "cell_type": "markdown",
   "id": "39900413",
   "metadata": {},
   "source": [
    "### Model WITHOUT Shortcut Connections\n",
    "We'll pass the input through 5 layers without any shortcuts."
   ]
  },
  {
   "cell_type": "code",
   "execution_count": 11,
   "id": "ce0fb64a",
   "metadata": {},
   "outputs": [
    {
     "name": "stdout",
     "output_type": "stream",
     "text": [
      " Without Shortcut Connections:\n",
      "Layer 1 Gradient: 0.0006289227749221027\n",
      "Layer 2 Gradient: 0.00037446373607963324\n",
      "Layer 3 Gradient: 0.0022297531832009554\n",
      "Layer 4 Gradient: 0.004360882565379143\n",
      "Layer 5 Gradient: 0.01574201136827469\n"
     ]
    }
   ],
   "source": [
    "# Fix the seed for consistent results\n",
    "torch.manual_seed(123)\n",
    "\n",
    "# Create a simple input with 3 values\n",
    "x = torch.tensor([[1.0, 0.0, -1.0]], requires_grad=True)\n",
    "\n",
    "# Define 5 layers\n",
    "layer1 = nn.Linear(3, 3)\n",
    "layer2 = nn.Linear(3, 3)\n",
    "layer3 = nn.Linear(3, 3)\n",
    "layer4 = nn.Linear(3, 3)\n",
    "layer5 = nn.Linear(3, 1)\n",
    "\n",
    "# Forward pass (no shortcuts)\n",
    "z1 = F.gelu(layer1(x))\n",
    "z2 = F.gelu(layer2(z1))\n",
    "z3 = F.gelu(layer3(z2))\n",
    "z4 = F.gelu(layer4(z3))\n",
    "output = layer5(z4)\n",
    "\n",
    "# Target and loss\n",
    "target = torch.tensor([[0.0]])\n",
    "loss = F.mse_loss(output, target)\n",
    "\n",
    "# Backward pass\n",
    "loss.backward()\n",
    "\n",
    "# Print gradients\n",
    "print(\" Without Shortcut Connections:\")\n",
    "print(\"Layer 1 Gradient:\", layer1.weight.grad.abs().mean().item())\n",
    "print(\"Layer 2 Gradient:\", layer2.weight.grad.abs().mean().item())\n",
    "print(\"Layer 3 Gradient:\", layer3.weight.grad.abs().mean().item())\n",
    "print(\"Layer 4 Gradient:\", layer4.weight.grad.abs().mean().item())\n",
    "print(\"Layer 5 Gradient:\", layer5.weight.grad.abs().mean().item())"
   ]
  },
  {
   "cell_type": "markdown",
   "id": "9ae6c57d",
   "metadata": {},
   "source": [
    "### Model WITH Shortcut Connections\n",
    "Now we add the original input back after each layer."
   ]
  },
  {
   "cell_type": "code",
   "execution_count": 13,
   "id": "c872dc22",
   "metadata": {},
   "outputs": [
    {
     "name": "stdout",
     "output_type": "stream",
     "text": [
      "\n",
      " With Shortcut Connections:\n",
      "Layer 1 Gradient: 0.0018841872224584222\n",
      "Layer 2 Gradient: 0.007543565705418587\n",
      "Layer 3 Gradient: 0.04298516735434532\n",
      "Layer 4 Gradient: 0.19880297780036926\n",
      "Layer 5 Gradient: 0.4630465507507324\n"
     ]
    }
   ],
   "source": [
    "# Reset everything\n",
    "torch.manual_seed(123)\n",
    "x = torch.tensor([[1.0, 0.0, -1.0]], requires_grad=True)\n",
    "\n",
    "# Define the same 5 layers again\n",
    "layer1 = nn.Linear(3, 3)\n",
    "layer2 = nn.Linear(3, 3)\n",
    "layer3 = nn.Linear(3, 3)\n",
    "layer4 = nn.Linear(3, 3)\n",
    "layer5 = nn.Linear(3, 1)\n",
    "\n",
    "# Forward pass with shortcut connections\n",
    "z1 = F.gelu(layer1(x))\n",
    "z2 = F.gelu(layer2(z1 + x))\n",
    "z3 = F.gelu(layer3(z2 + x))\n",
    "z4 = F.gelu(layer4(z3 + x))\n",
    "output = layer5(z4 + x)\n",
    "\n",
    "# Loss and backprop\n",
    "target = torch.tensor([[0.0]])\n",
    "loss = F.mse_loss(output, target)\n",
    "loss.backward()\n",
    "\n",
    "# Print gradients\n",
    "print(\"\\n With Shortcut Connections:\")\n",
    "print(\"Layer 1 Gradient:\", layer1.weight.grad.abs().mean().item())\n",
    "print(\"Layer 2 Gradient:\", layer2.weight.grad.abs().mean().item())\n",
    "print(\"Layer 3 Gradient:\", layer3.weight.grad.abs().mean().item())\n",
    "print(\"Layer 4 Gradient:\", layer4.weight.grad.abs().mean().item())\n",
    "print(\"Layer 5 Gradient:\", layer5.weight.grad.abs().mean().item())"
   ]
  },
  {
   "cell_type": "code",
   "execution_count": null,
   "id": "d38d09a7-60b8-4a88-bbc2-d3f173c7b0c9",
   "metadata": {},
   "outputs": [],
   "source": []
  }
 ],
 "metadata": {
  "kernelspec": {
   "display_name": "Python [conda env:base] *",
   "language": "python",
   "name": "conda-base-py"
  },
  "language_info": {
   "codemirror_mode": {
    "name": "ipython",
    "version": 3
   },
   "file_extension": ".py",
   "mimetype": "text/x-python",
   "name": "python",
   "nbconvert_exporter": "python",
   "pygments_lexer": "ipython3",
   "version": "3.12.7"
  }
 },
 "nbformat": 4,
 "nbformat_minor": 5
}
